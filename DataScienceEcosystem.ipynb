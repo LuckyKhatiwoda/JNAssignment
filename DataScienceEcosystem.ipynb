{
 "cells": [
  {
   "cell_type": "markdown",
   "id": "523569ad-74c8-43e8-a744-7f0485dfea26",
   "metadata": {},
   "source": [
    "# Data Science Tools and Ecosystem"
   ]
  },
  {
   "cell_type": "markdown",
   "id": "a3b54dd0-7ff1-400e-9dde-bba2cb370bde",
   "metadata": {},
   "source": [
    "In this notebook, Data Science Tools and Ecosystem are summarized."
   ]
  },
  {
   "cell_type": "markdown",
   "id": "2fcb7348-4404-4b9c-a1a6-d5da6055d92a",
   "metadata": {},
   "source": [
    "**Objectives**\n",
    "- List Popular languages for Data Science\n",
    "- Libraries, APIs, Datasets, and Models\n",
    "- Working with files in Jupyter Notebook\n",
    "- Plotting RStudio\n",
    "- GitHub Repositories"
   ]
  },
  {
   "cell_type": "markdown",
   "id": "18dfc0c8-0225-48aa-830f-ce9a9b824ddb",
   "metadata": {},
   "source": [
    "Some of the popular languages that Data Scientists use are:\n",
    "1. Python\n",
    "2. R\n",
    "3. SQL\n",
    "4. Julia"
   ]
  },
  {
   "cell_type": "markdown",
   "id": "a9694dc3-e99f-439d-8371-674c080d7959",
   "metadata": {},
   "source": [
    "Some of the commonly used libraries used by Data Scientists include:"
   ]
  },
  {
   "cell_type": "markdown",
   "id": "61bf071d-be74-4cc7-a82f-eba42a66f229",
   "metadata": {},
   "source": [
    "1. Pandas\n",
    "2. SciPy\n",
    "3. Numpy\n",
    "4. Matpotlib"
   ]
  },
  {
   "cell_type": "markdown",
   "id": "65bbd0e8-9a10-4cef-a16e-42f347b2a5aa",
   "metadata": {},
   "source": [
    "|Data Science Tools|\n",
    "|------------------|\n",
    "|Jupyter Notebook|\n",
    "|RStudio|\n",
    "|Apache Zeppelin|in"
   ]
  },
  {
   "cell_type": "markdown",
   "id": "28e725ed-aca7-451f-908f-474152285505",
   "metadata": {},
   "source": [
    "### Below are a few examples of evaluating arithmetic expressions in Python"
   ]
  },
  {
   "cell_type": "code",
   "execution_count": 44,
   "id": "5de694d8-fa93-444f-85af-b8c1a76906c1",
   "metadata": {},
   "outputs": [
    {
     "data": {
      "text/plain": [
       "17"
      ]
     },
     "execution_count": 44,
     "metadata": {},
     "output_type": "execute_result"
    }
   ],
   "source": [
    "#This a simple arithmetic expression to multiply then add integers\n",
    "(3*4)+5"
   ]
  },
  {
   "cell_type": "code",
   "execution_count": 40,
   "id": "4924e8aa-b33f-4ab2-8e8d-ece638438fa2",
   "metadata": {},
   "outputs": [
    {
     "name": "stdout",
     "output_type": "stream",
     "text": [
      "3.3333333333333335\n"
     ]
    }
   ],
   "source": [
    "#This will convert 200 minutes to hours by diving by 60\n",
    "hours = 200/60\n",
    "print(hours)"
   ]
  },
  {
   "cell_type": "markdown",
   "id": "13f62712-9cf3-4dd8-9bdc-d9e96ce7a520",
   "metadata": {},
   "source": [
    "## Author\n",
    "Laxmi Prasad Khatiwoda"
   ]
  }
 ],
 "metadata": {
  "kernelspec": {
   "display_name": "anaconda-panel-2023.05-py310",
   "language": "python",
   "name": "conda-env-anaconda-panel-2023.05-py310-py"
  },
  "language_info": {
   "codemirror_mode": {
    "name": "ipython",
    "version": 3
   },
   "file_extension": ".py",
   "mimetype": "text/x-python",
   "name": "python",
   "nbconvert_exporter": "python",
   "pygments_lexer": "ipython3",
   "version": "3.11.5"
  }
 },
 "nbformat": 4,
 "nbformat_minor": 5
}
